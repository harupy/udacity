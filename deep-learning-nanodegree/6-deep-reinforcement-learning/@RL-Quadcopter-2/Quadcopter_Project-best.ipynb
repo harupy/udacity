{
 "cells": [
  {
   "cell_type": "markdown",
   "metadata": {},
   "source": [
    "# Project: Train a Quadcopter How to Fly\n",
    "\n",
    "Design an agent to fly a quadcopter, and then train it using a reinforcement learning algorithm of your choice! \n",
    "\n",
    "Try to apply the techniques you have learnt, but also feel free to come up with innovative ideas and test them."
   ]
  },
  {
   "cell_type": "markdown",
   "metadata": {},
   "source": [
    "## Instructions\n",
    "\n",
    "Take a look at the files in the directory to better understand the structure of the project. \n",
    "\n",
    "- `task.py`: Define your task (environment) in this file.\n",
    "- `agents/`: Folder containing reinforcement learning agents.\n",
    "    - `policy_search.py`: A sample agent has been provided here.\n",
    "    - `agent.py`: Develop your agent here.\n",
    "- `physics_sim.py`: This file contains the simulator for the quadcopter.  **DO NOT MODIFY THIS FILE**.\n",
    "\n",
    "For this project, you will define your own task in `task.py`.  Although we have provided a example task to get you started, you are encouraged to change it.  Later in this notebook, you will learn more about how to amend this file.\n",
    "\n",
    "You will also design a reinforcement learning agent in `agent.py` to complete your chosen task.  \n",
    "\n",
    "You are welcome to create any additional files to help you to organize your code.  For instance, you may find it useful to define a `model.py` file defining any needed neural network architectures.\n",
    "\n",
    "## Controlling the Quadcopter\n",
    "\n",
    "We provide a sample agent in the code cell below to show you how to use the sim to control the quadcopter.  This agent is even simpler than the sample agent that you'll examine (in `agents/policy_search.py`) later in this notebook!\n",
    "\n",
    "The agent controls the quadcopter by setting the revolutions per second on each of its four rotors.  The provided agent in the `Basic_Agent` class below always selects a random action for each of the four rotors.  These four speeds are returned by the `act` method as a list of four floating-point numbers.  \n",
    "\n",
    "For this project, the agent that you will implement in `agents/agent.py` will have a far more intelligent method for selecting actions!"
   ]
  },
  {
   "cell_type": "code",
   "execution_count": null,
   "metadata": {},
   "outputs": [],
   "source": [
    "import random\n",
    "\n",
    "class Basic_Agent():\n",
    "    def __init__(self, task):\n",
    "        self.task = task\n",
    "    \n",
    "    def act(self):\n",
    "        new_thrust = random.gauss(450., 25.)\n",
    "        return [new_thrust + random.gauss(0., 1.) for x in range(4)]"
   ]
  },
  {
   "cell_type": "markdown",
   "metadata": {},
   "source": [
    "Run the code cell below to have the agent select actions to control the quadcopter.  \n",
    "\n",
    "Feel free to change the provided values of `runtime`, `init_pose`, `init_velocities`, and `init_angle_velocities` below to change the starting conditions of the quadcopter.\n",
    "\n",
    "The `labels` list below annotates statistics that are saved while running the simulation.  All of this information is saved in a text file `data.txt` and stored in the dictionary `results`.  "
   ]
  },
  {
   "cell_type": "code",
   "execution_count": null,
   "metadata": {},
   "outputs": [],
   "source": [
    "%load_ext autoreload\n",
    "%autoreload 2\n",
    "\n",
    "import csv\n",
    "import numpy as np\n",
    "from task import Task\n",
    "\n",
    "# Modify the values below to give the quadcopter a different starting position.\n",
    "runtime = 5.                                     # time limit of the episode\n",
    "init_pose = np.array([0., 0., 10., 0., 0., 0.])  # initial pose\n",
    "init_velocities = np.array([0., 0., 0.])         # initial velocities\n",
    "init_angle_velocities = np.array([0., 0., 0.])   # initial angle velocities\n",
    "file_output = 'data.txt'                         # file name for saved results\n",
    "\n",
    "# Setup\n",
    "task = Task(init_pose, init_velocities, init_angle_velocities, runtime)\n",
    "agent = Basic_Agent(task)\n",
    "done = False\n",
    "labels = ['time', 'x', 'y', 'z', 'phi', 'theta', 'psi', 'x_velocity',\n",
    "          'y_velocity', 'z_velocity', 'phi_velocity', 'theta_velocity',\n",
    "          'psi_velocity', 'rotor_speed1', 'rotor_speed2', 'rotor_speed3', 'rotor_speed4']\n",
    "results = {x : [] for x in labels}\n",
    "\n",
    "# Run the simulation, and save the results.\n",
    "with open(file_output, 'w') as csvfile:\n",
    "    writer = csv.writer(csvfile)\n",
    "    writer.writerow(labels)\n",
    "    while True:\n",
    "        rotor_speeds = agent.act()\n",
    "        _, _, done = task.step(rotor_speeds)\n",
    "        to_write = [task.sim.time] + list(task.sim.pose) + list(task.sim.v) + list(task.sim.angular_v) + list(rotor_speeds)\n",
    "        for ii in range(len(labels)):\n",
    "            results[labels[ii]].append(to_write[ii])\n",
    "        writer.writerow(to_write)\n",
    "        if done:\n",
    "            break"
   ]
  },
  {
   "cell_type": "markdown",
   "metadata": {},
   "source": [
    "Run the code cell below to visualize how the position of the quadcopter evolved during the simulation."
   ]
  },
  {
   "cell_type": "code",
   "execution_count": null,
   "metadata": {},
   "outputs": [],
   "source": [
    "import matplotlib.pyplot as plt\n",
    "%matplotlib inline\n",
    "\n",
    "plt.plot(results['time'], results['x'], label='x')\n",
    "plt.plot(results['time'], results['y'], label='y')\n",
    "plt.plot(results['time'], results['z'], label='z')\n",
    "plt.legend()\n",
    "_ = plt.ylim()"
   ]
  },
  {
   "cell_type": "markdown",
   "metadata": {},
   "source": [
    "The next code cell visualizes the velocity of the quadcopter."
   ]
  },
  {
   "cell_type": "code",
   "execution_count": null,
   "metadata": {},
   "outputs": [],
   "source": [
    "plt.plot(results['time'], results['x_velocity'], label='x_hat')\n",
    "plt.plot(results['time'], results['y_velocity'], label='y_hat')\n",
    "plt.plot(results['time'], results['z_velocity'], label='z_hat')\n",
    "plt.legend()\n",
    "_ = plt.ylim()"
   ]
  },
  {
   "cell_type": "markdown",
   "metadata": {},
   "source": [
    "Next, you can plot the Euler angles (the rotation of the quadcopter over the $x$-, $y$-, and $z$-axes),"
   ]
  },
  {
   "cell_type": "code",
   "execution_count": null,
   "metadata": {},
   "outputs": [],
   "source": [
    "plt.plot(results['time'], results['phi'], label='phi')\n",
    "plt.plot(results['time'], results['theta'], label='theta')\n",
    "plt.plot(results['time'], results['psi'], label='psi')\n",
    "plt.legend()\n",
    "_ = plt.ylim()"
   ]
  },
  {
   "cell_type": "markdown",
   "metadata": {},
   "source": [
    "before plotting the velocities (in radians per second) corresponding to each of the Euler angles."
   ]
  },
  {
   "cell_type": "code",
   "execution_count": null,
   "metadata": {},
   "outputs": [],
   "source": [
    "plt.plot(results['time'], results['phi_velocity'], label='phi_velocity')\n",
    "plt.plot(results['time'], results['theta_velocity'], label='theta_velocity')\n",
    "plt.plot(results['time'], results['psi_velocity'], label='psi_velocity')\n",
    "plt.legend()\n",
    "_ = plt.ylim()"
   ]
  },
  {
   "cell_type": "markdown",
   "metadata": {},
   "source": [
    "Finally, you can use the code cell below to print the agent's choice of actions.  "
   ]
  },
  {
   "cell_type": "code",
   "execution_count": null,
   "metadata": {},
   "outputs": [],
   "source": [
    "plt.plot(results['time'], results['rotor_speed1'], label='Rotor 1 revolutions / second')\n",
    "plt.plot(results['time'], results['rotor_speed2'], label='Rotor 2 revolutions / second')\n",
    "plt.plot(results['time'], results['rotor_speed3'], label='Rotor 3 revolutions / second')\n",
    "plt.plot(results['time'], results['rotor_speed4'], label='Rotor 4 revolutions / second')\n",
    "plt.legend()\n",
    "_ = plt.ylim()"
   ]
  },
  {
   "cell_type": "markdown",
   "metadata": {},
   "source": [
    "When specifying a task, you will derive the environment state from the simulator.  Run the code cell below to print the values of the following variables at the end of the simulation:\n",
    "- `task.sim.pose` (the position of the quadcopter in ($x,y,z$) dimensions and the Euler angles),\n",
    "- `task.sim.v` (the velocity of the quadcopter in ($x,y,z$) dimensions), and\n",
    "- `task.sim.angular_v` (radians/second for each of the three Euler angles)."
   ]
  },
  {
   "cell_type": "code",
   "execution_count": null,
   "metadata": {},
   "outputs": [],
   "source": [
    "# the pose, velocity, and angular velocity of the quadcopter at the end of the episode\n",
    "print(task.sim.pose)\n",
    "print(task.sim.v)\n",
    "print(task.sim.angular_v)"
   ]
  },
  {
   "cell_type": "markdown",
   "metadata": {},
   "source": [
    "In the sample task in `task.py`, we use the 6-dimensional pose of the quadcopter to construct the state of the environment at each timestep.  However, when amending the task for your purposes, you are welcome to expand the size of the state vector by including the velocity information.  You can use any combination of the pose, velocity, and angular velocity - feel free to tinker here, and construct the state to suit your task.\n",
    "\n",
    "## The Task\n",
    "\n",
    "A sample task has been provided for you in `task.py`.  Open this file in a new window now. \n",
    "\n",
    "The `__init__()` method is used to initialize several variables that are needed to specify the task.  \n",
    "- The simulator is initialized as an instance of the `PhysicsSim` class (from `physics_sim.py`).  \n",
    "- Inspired by the methodology in the original DDPG paper, we make use of action repeats.  For each timestep of the agent, we step the simulation `action_repeats` timesteps.  If you are not familiar with action repeats, please read the **Results** section in [the DDPG paper](https://arxiv.org/abs/1509.02971).\n",
    "- We set the number of elements in the state vector.  For the sample task, we only work with the 6-dimensional pose information.  To set the size of the state (`state_size`), we must take action repeats into account.  \n",
    "- The environment will always have a 4-dimensional action space, with one entry for each rotor (`action_size=4`). You can set the minimum (`action_low`) and maximum (`action_high`) values of each entry here.\n",
    "- The sample task in this provided file is for the agent to reach a target position.  We specify that target position as a variable.\n",
    "\n",
    "The `reset()` method resets the simulator.  The agent should call this method every time the episode ends.  You can see an example of this in the code cell below.\n",
    "\n",
    "The `step()` method is perhaps the most important.  It accepts the agent's choice of action `rotor_speeds`, which is used to prepare the next state to pass on to the agent.  Then, the reward is computed from `get_reward()`.  The episode is considered done if the time limit has been exceeded, or the quadcopter has travelled outside of the bounds of the simulation.\n",
    "\n",
    "In the next section, you will learn how to test the performance of an agent on this task."
   ]
  },
  {
   "cell_type": "markdown",
   "metadata": {},
   "source": [
    "## The Agent\n",
    "\n",
    "The sample agent given in `agents/policy_search.py` uses a very simplistic linear policy to directly compute the action vector as a dot product of the state vector and a matrix of weights. Then, it randomly perturbs the parameters by adding some Gaussian noise, to produce a different policy. Based on the average reward obtained in each episode (`score`), it keeps track of the best set of parameters found so far, how the score is changing, and accordingly tweaks a scaling factor to widen or tighten the noise.\n",
    "\n",
    "Run the code cell below to see how the agent performs on the sample task."
   ]
  },
  {
   "cell_type": "code",
   "execution_count": null,
   "metadata": {},
   "outputs": [],
   "source": [
    "import sys\n",
    "import pandas as pd\n",
    "from agents.policy_search import PolicySearch_Agent\n",
    "from task import Task\n",
    "\n",
    "num_episodes = 1000\n",
    "target_pos = np.array([0., 0., 10.])\n",
    "task = Task(target_pos=target_pos)\n",
    "agent = PolicySearch_Agent(task) \n",
    "\n",
    "for i_episode in range(1, num_episodes+1):\n",
    "    break\n",
    "    state = agent.reset_episode() # start a new episode\n",
    "    while True:\n",
    "        action = agent.act(state) \n",
    "        next_state, reward, done = task.step(action)\n",
    "        agent.step(reward, done)\n",
    "        state = next_state\n",
    "        if done:\n",
    "            print(\"\\rEpisode = {:4d}, score = {:7.3f} (best = {:7.3f}), noise_scale = {}\".format(\n",
    "                i_episode, agent.score, agent.best_score, agent.noise_scale), end=\"\")  # [debug]\n",
    "            break\n",
    "    sys.stdout.flush()"
   ]
  },
  {
   "cell_type": "markdown",
   "metadata": {},
   "source": [
    "This agent should perform very poorly on this task.  And that's where you come in!"
   ]
  },
  {
   "cell_type": "markdown",
   "metadata": {
    "collapsed": true
   },
   "source": [
    "## Define the Task, Design the Agent, and Train Your Agent!\n",
    "\n",
    "Amend `task.py` to specify a task of your choosing.  If you're unsure what kind of task to specify, you may like to teach your quadcopter to takeoff, hover in place, land softly, or reach a target pose.  \n",
    "\n",
    "After specifying your task, use the sample agent in `agents/policy_search.py` as a template to define your own agent in `agents/agent.py`.  You can borrow whatever you need from the sample agent, including ideas on how you might modularize your code (using helper methods like `act()`, `learn()`, `reset_episode()`, etc.).\n",
    "\n",
    "Note that it is **highly unlikely** that the first agent and task that you specify will learn well.  You will likely have to tweak various hyperparameters and the reward function for your task until you arrive at reasonably good behavior.\n",
    "\n",
    "As you develop your agent, it's important to keep an eye on how it's performing. Use the code above as inspiration to build in a mechanism to log/save the total rewards obtained in each episode to file.  If the episode rewards are gradually increasing, this is an indication that your agent is learning."
   ]
  },
  {
   "cell_type": "code",
   "execution_count": null,
   "metadata": {},
   "outputs": [],
   "source": [
    "x = np.linspace(-10, 10, 61)\n",
    "y = np.tanh(x)\n",
    "plt.plot(x, y)"
   ]
  },
  {
   "cell_type": "code",
   "execution_count": null,
   "metadata": {
    "scrolled": true
   },
   "outputs": [],
   "source": [
    "## TODO: Train your agent here.\n",
    "\n",
    "from agents.agent import DDPG\n",
    "import matplotlib.pyplot as plt\n",
    "from mpl_toolkits.mplot3d import Axes3D\n",
    "from IPython.display import display\n",
    "from datetime import datetime as dt\n",
    "import os\n",
    "import sys\n",
    "\n",
    "# make a directory to save the output charts\n",
    "now = dt.now().strftime('%Y%m%d%H%M%S')\n",
    "save_dir = os.path.join('charts', now)\n",
    "os.mkdir(save_dir)\n",
    "\n",
    "# training condition\n",
    "num_episodes = 1000\n",
    "init_pose = np.array([0., 0., np.random.uniform(1, 2), 0., 0., 0.])\n",
    "init_pose = np.array([0., 0., 10., 0., 0., 0.])\n",
    "target_pos = np.array([0., 0., 100.])\n",
    "\n",
    "# create task and agent\n",
    "task = Task(init_pose=init_pose, target_pos=target_pos)\n",
    "agent = DDPG(task)\n",
    "agent.save_hparams(save_dir)\n",
    "\n",
    "# plot parameters\n",
    "mag = np.array([10, 10, 2])\n",
    "lower_bounds = task.sim.lower_bounds / mag \n",
    "upper_bounds = task.sim.upper_bounds / mag\n",
    "plot_every = 20\n",
    "fs = 15\n",
    "reward_record = []\n",
    "pose_record = []\n",
    "pose_size = agent.state_size // agent.task.action_repeat\n",
    "\n",
    "for i_episode in range(1, num_episodes+1):\n",
    "    state = agent.reset_episode()  # start a new episode\n",
    "    pose_all = state[:pose_size].reshape((-1, pose_size))\n",
    "    while True:\n",
    "        action = agent.act(state)\n",
    "        next_state, reward, done = task.step(action)\n",
    "        agent.step(action, reward, next_state, done)\n",
    "        state = next_state\n",
    "        pose_all = np.concatenate((pose_all, state.reshape(-1, pose_size)), axis=0)\n",
    "        if done:\n",
    "            print(\"\\rEpisode = {:4d}, totial_reward = {:7.3f} (best = {:7.3f}), time = {:4.3f}, samples = {}\".format(\n",
    "                i_episode, agent.total_reward, agent.best_total_reward, agent.task.sim.time, len(agent.memory)), end='')  # [debug]\n",
    "\n",
    "            pose_record.append(pose_all)\n",
    "            reward_record.append(agent.total_reward)\n",
    "            break\n",
    "\n",
    "    if i_episode % plot_every == 0:\n",
    "        fig = plt.figure(figsize=(8 * 3, 5))\n",
    "        ax1 = fig.add_subplot(131, projection='3d')\n",
    "        ax2 = fig.add_subplot(132)\n",
    "        ax1.scatter(*init_pose[:3], s=20, c='green')\n",
    "        ax1.scatter(*target_pos, s=20, c='blue')\n",
    "        ax1.text(*init_pose[:3], 'Start', size=fs, zorder=1, color='green')\n",
    "        ax1.text(*target_pos, 'Target', size=fs, zorder=1, color='blue')\n",
    "\n",
    "        # plot the agent pose of each episode\n",
    "        for pose in pose_record:\n",
    "            color = 'orange' if pose.shape[0] == 255 else 'red'  # orange: timeout, red: crash\n",
    "            ax1.plot(pose[:, 0], pose[:, 1], zs=pose[:, 2], c='k')\n",
    "            ax1.scatter(pose[-1, 0], pose[-1, 1], zs=pose[-1, 2], s=20, c=color, lw=1)\n",
    "            ax2.plot(np.arange(len(pose[:, 2])) * agent.task.sim.dt, pose[:, 2], 'k')\n",
    "\n",
    "        ax1.set_xlim3d(lower_bounds[0], upper_bounds[0])\n",
    "        ax1.set_ylim3d(lower_bounds[1], upper_bounds[1])\n",
    "        ax1.set_zlim3d(lower_bounds[2], upper_bounds[2])\n",
    "        ax1.set_xlabel('X')\n",
    "        ax1.set_ylabel('Y')\n",
    "        ax1.set_zlabel('Z')\n",
    "        cnt = i_episode // plot_every\n",
    "        start = str((cnt - 1) * plot_every).zfill(3)\n",
    "        end = str(cnt * plot_every).zfill(3)\n",
    "        title = 'Episode{}-{}'.format(start, end)\n",
    "        ax1.set_title(title)\n",
    "        ax2.set_xlabel('time')\n",
    "        ax2.set_ylabel('Z')\n",
    "\n",
    "        # plot the reward\n",
    "        ax3 = fig.add_subplot(133)\n",
    "        ax3.plot(np.arange(len(reward_record)), reward_record)\n",
    "        ax3.set_xlabel('Episode')\n",
    "        ax3.set_ylabel('Total reward')\n",
    "        plt.rc('font', size=12)\n",
    "        save_path = os.path.join(save_dir, title + '.png')\n",
    "        plt.savefig(save_path)\n",
    "        plt.show()\n",
    "        pose_record = []\n",
    "    sys.stdout.flush()"
   ]
  },
  {
   "cell_type": "markdown",
   "metadata": {
    "collapsed": true
   },
   "source": [
    "## Plot the Rewards\n",
    "\n",
    "Once you are satisfied with your performance, plot the episode rewards, either from a single run, or averaged over multiple runs. "
   ]
  },
  {
   "cell_type": "markdown",
   "metadata": {},
   "source": [
    "## TODO: Plot the rewards.\n",
    "I limited the plot range because I wanted to see how the agent behaves around the target position.\n",
    "<h2 style=\"text-align:center\">Episode180-200</h2>\n",
    "<img src=\"./charts/20180804155322/Episode180-200.png\" alt=\"chart\" width=\"3200px\"/>\n",
    "<h2 style=\"text-align:center\">Episode380-400</h2>\n",
    "<img src=\"./charts/20180804155322/Episode380-400.png\" alt=\"chart\" width=\"3200px\"/>\n",
    "<h2 style=\"text-align:center\">Episode580-600</h2>\n",
    "<img src=\"./charts/20180804155322/Episode580-600.png\" alt=\"chart\" width=\"3200px\"/>\n",
    "<h2 style=\"text-align:center\">Episode780-800</h2>\n",
    "<img src=\"./charts/20180804155322/Episode780-800.png\" alt=\"chart\" width=\"3200px\"/>\n",
    "<h2 style=\"text-align:center\">Episode980-1000</h2>\n",
    "<img src=\"./charts/20180804155322/Episode980-1000.png\" alt=\"chart\" width=\"3200px\"/>"
   ]
  },
  {
   "cell_type": "markdown",
   "metadata": {
    "collapsed": true
   },
   "source": [
    "## Reflections\n",
    "\n",
    "**Question 1**: Describe the task that you specified in `task.py`.  How did you design the reward function?\n",
    "\n",
    "**Answer**: \n",
    "I selected a takeoff task. The reward function I designed is:\n",
    "```python\n",
    "def get_reward(self, done):\n",
    "    \"\"\"Uses current pose of sim to return reward.\"\"\"\n",
    "    reward_vz = np.clip(0.5 * self.sim.v[2], -1, 1)\n",
    "    reward_pos = np.clip(1 - 0.003*(abs(self.sim.pose[:3] - self.target_pos)), -1, 1).sum() / 3\n",
    "    reward = reward_vz + reward_z\n",
    "\n",
    "    return reward\n",
    "```\n",
    "With this reward function, an agent gets reward when:\n",
    "1. It has the positive vertical velocity\n",
    "2. It gets closer the target\n",
    "\n",
    "Because ```reward_pos``` includes x, y positions, the agent should avoid moving in the x or y direction to increase the total reward, but it didn't work out as I expected. I clipped both rewards(reward_vz and reward_pos) to prevent large updates.\n"
   ]
  },
  {
   "cell_type": "markdown",
   "metadata": {},
   "source": [
    "**Question 2**: Discuss your agent briefly, using the following questions as a guide:\n",
    "\n",
    "1. What learning algorithm(s) did you try? What worked best for you?\n",
    "2. What was your final choice of hyperparameters (such as $\\alpha$, $\\gamma$, $\\epsilon$, etc.)?\n",
    "3. What neural network architecture did you use (if any)? Specify layers, sizes, activation functions, etc.\n",
    "\n",
    "**Answer**:\n",
    "1. I used Deep Deterministic Policy Gradients (DDPG) which works well for continuous space and action spaces. DDPG doesn't explore for actions because it selects an action deterministically, so we need to add some noise to actions for exploration. I chose the Ornstein–Uhlenbeck noise which has some desired properties for this task. The experience replay and target Q-value technique are also used to stablize training.\n",
    "\n",
    "\n",
    "2. The final choice of hyperparameters are:\n",
    "    - Actor learning rate: 0.0001 \n",
    "    - Critic learning rate: 0.001\n",
    "    - Replay buffer size: 100000\n",
    "    - Batch size: 64\n",
    "    - OUNoise mu: 0\n",
    "    - OUNoise theta: 0.15\n",
    "    - OUNoise sigma: 0.3\n",
    "    - gamma: 0.99\n",
    "    - tau: 0.001\n",
    "\n",
    "3. The final architecture is: \n",
    "    - Actor\n",
    "        - Dense(units=400) + L2 Regularisation + Batch Norm + ReLu\n",
    "        - Dense(units=200) + L2 Regularisation + Batch Norm + ReLu\n",
    "        - Dense(action_size) + Random Uniform Initializer + Batch Norm + Sigmoid\n",
    "        - Lambda (for scaling the sigmoid output to proper action range)\n",
    "        \n",
    "    - Critic\n",
    "        - state path\n",
    "            - Dense(units=400) + Batch Norm + L2 Regularization + ReLu\n",
    "            - Dense(units=200) + Batch Norm + L2 Regularization\n",
    "\n",
    "        - action path\n",
    "            - Dense(units=200) + Batch Norm + L2 Regularization\n",
    "\n",
    "    - Merge state and action path with ReLu\n",
    "    - Dense(1) + Random Uniform Initializer\n",
    "\n",
    "First, I tried the default Actor & Critic implemetation provided in the lesson, but they didn't give any good result at all. So I made a coule of modifications below to help the agent learn quickly & efficiently.\n",
    "1. Increase the number of hidden units\n",
    "2. Apply Batch Normalization and L2 Regularization\n"
   ]
  },
  {
   "cell_type": "markdown",
   "metadata": {},
   "source": [
    "**Question 3**: Using the episode rewards plot, discuss how the agent learned over time.\n",
    "\n",
    "1. Was it an easy task to learn or hard?\n",
    "2. Was there a gradual learning curve, or an aha moment?\n",
    "3. How good was the final performance of the agent? (e.g. mean rewards over the last 10 episodes)\n",
    "\n",
    "**Answer**:\n",
    "1. It was a very hard task to learn.\n",
    "2. There was a steep learning curve between episode 200-300, the performance stays stable.\n",
    "3. I think the final performace is good. It was very hard to keep the good performance till the end. The best part often comes in the early or middle training part, then it gets stuck at some state where the total reward is low (like the chart below)\n",
    "\n",
    "<img src=\"./charts/20180804172527/Episode980-1000.png\" alt=\"chart\" width=\"3200px\"/>"
   ]
  },
  {
   "cell_type": "markdown",
   "metadata": {},
   "source": [
    "**Question 4**: Briefly summarize your experience working on this project. You can use the following prompts for ideas.\n",
    "\n",
    "1. What was the hardest part of the project? (e.g. getting started, plotting, specifying the task, etc.)\n",
    "2. Did you find anything interesting in how the quadcopter or your agent behaved?\n",
    "\n",
    "**Answer**:\n",
    "1. The hardest part for me was design the reward function on my own. DQN in much harder than CNNs and RNNs.\n",
    "2. I think the initial position is very import because if it's close to the the boundaries, the agent crashes soon and have no chance to explore action spaces. Also, the weight initialization is important because it decides action spaces the agent will explore even though we add some noise to actions."
   ]
  },
  {
   "cell_type": "code",
   "execution_count": null,
   "metadata": {},
   "outputs": [],
   "source": []
  }
 ],
 "metadata": {
  "anaconda-cloud": {},
  "kernelspec": {
   "display_name": "Python 3",
   "language": "python",
   "name": "python3"
  },
  "language_info": {
   "codemirror_mode": {
    "name": "ipython",
    "version": 3
   },
   "file_extension": ".py",
   "mimetype": "text/x-python",
   "name": "python",
   "nbconvert_exporter": "python",
   "pygments_lexer": "ipython3",
   "version": "3.6.5"
  }
 },
 "nbformat": 4,
 "nbformat_minor": 2
}
